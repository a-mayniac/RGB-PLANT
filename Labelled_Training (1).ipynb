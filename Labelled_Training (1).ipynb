{
  "cells": [
    {
      "cell_type": "code",
      "execution_count": 1,
      "metadata": {
        "id": "xwLH3XxplQsN"
      },
      "outputs": [],
      "source": [
        "import os\n",
        "import pandas as pd\n",
        "from PIL import Image\n",
        "import torch\n",
        "from torch import nn\n",
        "from torch.utils.data import Dataset, DataLoader\n",
        "from torchvision import transforms, models\n",
        "from sklearn.model_selection import train_test_split\n",
        "import matplotlib.pyplot as plt\n",
        "import numpy as np\n"
      ]
    },
    {
      "cell_type": "code",
      "execution_count": 2,
      "metadata": {
        "colab": {
          "base_uri": "https://localhost:8080/"
        },
        "id": "VDOVy4wrlm7h",
        "outputId": "97a58b9d-a6d7-4447-8d46-ea5f4737eb9b"
      },
      "outputs": [
        {
          "output_type": "stream",
          "name": "stdout",
          "text": [
            "Mounted at /content/drive\n"
          ]
        }
      ],
      "source": [
        "from google.colab import drive\n",
        "drive.mount('/content/drive')\n",
        "\n"
      ]
    },
    {
      "cell_type": "code",
      "execution_count": 3,
      "metadata": {
        "id": "JDS1AAMF2oDx"
      },
      "outputs": [],
      "source": [
        "class LeafScoreDataset(Dataset):\n",
        "    def __init__(self, df, image_dir, transform=None):\n",
        "        self.df = df.reset_index(drop=True)\n",
        "        self.image_dir = image_dir\n",
        "        self.transform = transform\n",
        "\n",
        "    def __len__(self):\n",
        "\n",
        "        return len(self.df)\n",
        "\n",
        "    def __getitem__(self, idx):\n",
        "        row = self.df.iloc[idx]\n",
        "        img_path = os.path.join(str(self.image_dir), str(row['image_path']))\n",
        "        image = Image.open(img_path).convert('RGB')\n",
        "        if self.transform:\n",
        "            image = self.transform(image)\n",
        "        label = torch.tensor(row['score'], dtype=torch.float32)\n",
        "        return image, label"
      ]
    },
    {
      "cell_type": "code",
      "execution_count": 9,
      "metadata": {
        "id": "dMO9gvES2wiC",
        "colab": {
          "base_uri": "https://localhost:8080/"
        },
        "outputId": "61924c7d-3937-48b9-e8dc-8f6837d6b2a5"
      },
      "outputs": [
        {
          "output_type": "stream",
          "name": "stdout",
          "text": [
            "Found class folders: ['Healthy', 'septoria', 'stripe_rust']\n",
            "Dataset loaded successfully \n",
            "Classes detected: ['Healthy', 'septoria', 'stripe_rust']\n",
            "Total images loaded: 407\n"
          ]
        }
      ],
      "source": [
        "import os\n",
        "import torch\n",
        "from torchvision import datasets, transforms\n",
        "\n",
        "# Define the root directory of your dataset\n",
        "dataset_dir = \"/content/drive/MyDrive/arch/wheat_leaf (1)\"\n",
        "\n",
        "# Define image transformations\n",
        "transform = transforms.Compose([\n",
        "    transforms.Resize((224, 224)),   # resize to match ResNet input\n",
        "    transforms.ToTensor(),           # convert to tensor\n",
        "])\n",
        "\n",
        "\n",
        "if not os.path.exists(dataset_dir):\n",
        "    raise FileNotFoundError(f\"Dataset path not found: {dataset_dir}\")\n",
        "\n",
        "subfolders = [f for f in os.listdir(dataset_dir) if os.path.isdir(os.path.join(dataset_dir, f))]\n",
        "if not subfolders:\n",
        "    raise FileNotFoundError(\n",
        "        f\"No class subfolders found inside {dataset_dir}. \"\n",
        "        f\"Expected subfolders like 'Healthy', 'septoria', 'stripe_Rust'.\"\n",
        "    )\n",
        "\n",
        "print(f\"Found class folders: {subfolders}\")\n",
        "\n",
        "\n",
        "dataset = datasets.ImageFolder(root=dataset_dir, transform=transform)\n",
        "\n",
        "if len(dataset) == 0:\n",
        "    raise FileNotFoundError(f\"No valid images found inside subfolders of {dataset_dir}\")\n",
        "\n",
        "print(\"Dataset loaded successfully \")\n",
        "print(\"Classes detected:\", dataset.classes)\n",
        "print(\"Total images loaded:\", len(dataset))\n"
      ]
    },
    {
      "cell_type": "code",
      "source": [
        "# Split into training and validation subsets (e.g., 80-20 split)\n",
        "train_size = int(0.8 * len(dataset))\n",
        "val_size   = len(dataset) - train_size\n",
        "train_dataset, val_dataset = random_split(dataset, [train_size, val_size], generator=torch.Generator().manual_seed(42))\n",
        "\n",
        "# Create DataLoaders for batching\n",
        "train_loader = DataLoader(train_dataset, batch_size=16, shuffle=True)\n",
        "val_loader   = DataLoader(val_dataset, batch_size=16, shuffle=False)\n",
        "\n",
        "# (Optional) Check a few sample labels to ensure correctness\n",
        "for i in range(3):\n",
        "    img, label = train_dataset[i]\n",
        "    print(f\"Sample {i}: class index = {label}, class name = '{dataset.classes[label]}'\")\n",
        "print(dataset.class_to_idx)\n",
        "\n",
        "from collections import Counter\n",
        "all_labels = [label for _, label in train_dataset]\n",
        "print(Counter(all_labels))\n"
      ],
      "metadata": {
        "colab": {
          "base_uri": "https://localhost:8080/"
        },
        "id": "4yoK5_UjYe0R",
        "outputId": "23f0616e-67af-4a92-af49-27ea841cb437"
      },
      "execution_count": 10,
      "outputs": [
        {
          "output_type": "stream",
          "name": "stdout",
          "text": [
            "Sample 0: class index = 1, class name = 'septoria'\n",
            "Sample 1: class index = 2, class name = 'stripe_rust'\n",
            "Sample 2: class index = 2, class name = 'stripe_rust'\n",
            "{'Healthy': 0, 'septoria': 1, 'stripe_rust': 2}\n",
            "Counter({2: 169, 1: 82, 0: 74})\n"
          ]
        }
      ]
    },
    {
      "cell_type": "code",
      "source": [
        "from torch.utils.data import WeightedRandomSampler\n",
        "\n",
        "# Step 1: Count class occurrences\n",
        "from collections import Counter\n",
        "labels = [label for _, label in train_dataset]\n",
        "label_counts = Counter(labels)\n",
        "\n",
        "# Step 2: Compute weights (inverse frequency)\n",
        "class_weights = {cls: 1.0 / count for cls, count in label_counts.items()}\n",
        "sample_weights = [class_weights[label] for label in labels]\n",
        "\n",
        "# Step 3: Create WeightedRandomSampler\n",
        "sampler = WeightedRandomSampler(sample_weights, num_samples=len(train_dataset), replacement=True)\n",
        "\n",
        "# Step 4: Use sampler in train_loader\n",
        "train_loader = DataLoader(train_dataset, batch_size=16, sampler=sampler)\n"
      ],
      "metadata": {
        "id": "084Bu3kQcSJt"
      },
      "execution_count": 11,
      "outputs": []
    },
    {
      "cell_type": "code",
      "source": [
        "import torch\n",
        "from torch.utils.data import DataLoader, random_split\n",
        "from torchvision import models, transforms\n",
        "import torch.nn as nn\n",
        "import torch.optim as optim\n",
        "\n",
        "# Set device\n",
        "device = torch.device(\"cuda\" if torch.cuda.is_available() else \"cpu\")\n",
        "\n",
        "# Split dataset\n",
        "train_size = int(0.8 * len(dataset))\n",
        "val_size = len(dataset) - train_size\n",
        "train_dataset, val_dataset = random_split(dataset, [train_size, val_size])\n",
        "\n",
        "train_loader = DataLoader(train_dataset, batch_size=16, shuffle=True)\n",
        "val_loader = DataLoader(val_dataset, batch_size=16, shuffle=False)\n",
        "\n",
        "# Load ResNet50 model\n",
        "model = models.resnet50(pretrained=True)\n",
        "model.fc = nn.Linear(model.fc.in_features, len(dataset.classes))  # Adapt for your num of classes\n",
        "model.to(device)\n",
        "\n",
        "criterion = nn.CrossEntropyLoss()\n",
        "optimizer = optim.Adam(model.parameters(), lr=1e-4)\n",
        "\n",
        "# Training loop\n",
        "for epoch in range(5):\n",
        "    model.train()\n",
        "    train_loss, train_correct, train_total = 0.0, 0, 0\n",
        "\n",
        "    for images, labels in train_loader:\n",
        "        images, labels = images.to(device), labels.to(device)\n",
        "\n",
        "        optimizer.zero_grad()\n",
        "        outputs = model(images)\n",
        "        loss = criterion(outputs, labels)\n",
        "        loss.backward()\n",
        "        optimizer.step()\n",
        "\n",
        "        train_loss += loss.item() * labels.size(0)\n",
        "        _, preds = torch.max(outputs, 1)\n",
        "        train_correct += (preds == labels).sum().item()\n",
        "        train_total += labels.size(0)\n",
        "\n",
        "    train_acc = train_correct / train_total\n",
        "\n",
        "    # Validation\n",
        "    model.eval()\n",
        "    val_correct, val_total = 0, 0\n",
        "    with torch.no_grad():\n",
        "        for images, labels in val_loader:\n",
        "            images, labels = images.to(device), labels.to(device)\n",
        "            outputs = model(images)\n",
        "            _, preds = torch.max(outputs, 1)\n",
        "            val_correct += (preds == labels).sum().item()\n",
        "            val_total += labels.size(0)\n",
        "\n",
        "    val_acc = val_correct / val_total\n",
        "\n",
        "    print(f\"Epoch {epoch+1}/10, Train Loss: {train_loss/train_total:.4f}, \"\n",
        "          f\"Train Acc: {train_acc:.4f}, Val Acc: {val_acc:.4f}\")\n"
      ],
      "metadata": {
        "colab": {
          "base_uri": "https://localhost:8080/"
        },
        "id": "b4t6Z4xAe0wp",
        "outputId": "e20e87eb-99ac-46a4-f4eb-531da8c482ff"
      },
      "execution_count": 12,
      "outputs": [
        {
          "output_type": "stream",
          "name": "stderr",
          "text": [
            "/usr/local/lib/python3.12/dist-packages/torchvision/models/_utils.py:208: UserWarning: The parameter 'pretrained' is deprecated since 0.13 and may be removed in the future, please use 'weights' instead.\n",
            "  warnings.warn(\n",
            "/usr/local/lib/python3.12/dist-packages/torchvision/models/_utils.py:223: UserWarning: Arguments other than a weight enum or `None` for 'weights' are deprecated since 0.13 and may be removed in the future. The current behavior is equivalent to passing `weights=ResNet50_Weights.IMAGENET1K_V1`. You can also use `weights=ResNet50_Weights.DEFAULT` to get the most up-to-date weights.\n",
            "  warnings.warn(msg)\n"
          ]
        },
        {
          "output_type": "stream",
          "name": "stdout",
          "text": [
            "Downloading: \"https://download.pytorch.org/models/resnet50-0676ba61.pth\" to /root/.cache/torch/hub/checkpoints/resnet50-0676ba61.pth\n"
          ]
        },
        {
          "output_type": "stream",
          "name": "stderr",
          "text": [
            "100%|██████████| 97.8M/97.8M [00:01<00:00, 64.8MB/s]\n"
          ]
        },
        {
          "output_type": "stream",
          "name": "stdout",
          "text": [
            "Epoch 1/10, Train Loss: 0.4838, Train Acc: 0.8000, Val Acc: 0.8537\n",
            "Epoch 2/10, Train Loss: 0.1033, Train Acc: 0.9631, Val Acc: 0.9756\n",
            "Epoch 3/10, Train Loss: 0.1165, Train Acc: 0.9631, Val Acc: 0.9390\n",
            "Epoch 4/10, Train Loss: 0.0602, Train Acc: 0.9815, Val Acc: 0.9634\n",
            "Epoch 5/10, Train Loss: 0.0344, Train Acc: 0.9908, Val Acc: 0.9756\n"
          ]
        }
      ]
    },
    {
      "cell_type": "code",
      "source": [],
      "metadata": {
        "id": "P1Fu5Ooy0Rkj"
      },
      "execution_count": null,
      "outputs": []
    }
  ],
  "metadata": {
    "accelerator": "GPU",
    "colab": {
      "gpuType": "T4",
      "provenance": []
    },
    "kernelspec": {
      "display_name": "Python 3",
      "name": "python3"
    },
    "language_info": {
      "name": "python"
    }
  },
  "nbformat": 4,
  "nbformat_minor": 0
}