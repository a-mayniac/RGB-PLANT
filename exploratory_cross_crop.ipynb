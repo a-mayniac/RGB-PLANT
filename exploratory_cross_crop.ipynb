{
  "nbformat": 4,
  "nbformat_minor": 0,
  "metadata": {
    "colab": {
      "provenance": [],
      "gpuType": "T4"
    },
    "kernelspec": {
      "name": "python3",
      "display_name": "Python 3"
    },
    "language_info": {
      "name": "python"
    },
    "accelerator": "GPU"
  },
  "cells": [
    {
      "cell_type": "code",
      "execution_count": null,
      "metadata": {
        "id": "CyUSJSkrHnm-",
        "colab": {
          "base_uri": "https://localhost:8080/"
        },
        "outputId": "8669c005-2155-458c-e7d5-b828dc905218"
      },
      "outputs": [
        {
          "output_type": "stream",
          "name": "stdout",
          "text": [
            "Mounted at /content/drive\n"
          ]
        }
      ],
      "source": [
        "from google.colab import drive\n",
        "drive.mount('/content/drive')\n"
      ]
    },
    {
      "cell_type": "code",
      "source": [
        "import os\n",
        "import pandas as pd\n",
        "\n",
        "# Define the base image directory\n",
        "base_dir = '/content/drive/MyDrive/Potato/'\n",
        "\n",
        "# Folder to score mapping\n",
        "folder_score_map = {\n",
        "    'Potato___Early_Blight': 6,\n",
        "    'Potato___Healthy': 10,\n",
        "    'Potato___Late_Blight': 4\n",
        "}\n",
        "\n",
        "# Collect image paths and scores\n",
        "data = []\n",
        "for folder, score in folder_score_map.items():\n",
        "    folder_path = os.path.join(base_dir, folder)\n",
        "    for fname in os.listdir(folder_path):\n",
        "        if fname.lower().endswith(('.jpg', '.jpeg', '.png')):\n",
        "            relative_path = os.path.join(folder, fname)\n",
        "            data.append({'image_path': relative_path, 'score': score})\n",
        "\n",
        "# Create dataframe\n",
        "df = pd.DataFrame(data)\n",
        "\n",
        "# Sort by filename\n",
        "df = df.sort_values(by='image_path')\n",
        "\n",
        "# Save to CSV\n",
        "csv_path = '/content/drive/MyDrive/Potato/leaf_scores.csv'\n",
        "df.to_csv(csv_path, index=False)\n",
        "\n",
        "print(f\"✅ CSV created with {len(df)} entries at: {csv_path}\")\n"
      ],
      "metadata": {
        "colab": {
          "base_uri": "https://localhost:8080/"
        },
        "id": "hsGLFCpQQKQQ",
        "outputId": "cad65c23-f0ff-4846-a9f9-d305a6cdeeaf"
      },
      "execution_count": null,
      "outputs": [
        {
          "output_type": "stream",
          "name": "stdout",
          "text": [
            "✅ CSV created with 2152 entries at: /content/drive/MyDrive/Potato/leaf_scores.csv\n"
          ]
        }
      ]
    },
    {
      "cell_type": "code",
      "source": [
        "import pandas as pd\n",
        "import torch\n",
        "from torch.utils.data import Dataset\n",
        "from PIL import Image\n",
        "import os\n",
        "from torchvision import transforms\n",
        "\n",
        "class LeafHealthScoreDataset(Dataset):\n",
        "    def __init__(self, csv_file, image_dir, transform=None):\n",
        "        self.data = pd.read_csv(csv_file)\n",
        "        self.image_dir = image_dir\n",
        "        self.transform = transform\n",
        "\n",
        "    def __len__(self):\n",
        "        return len(self.data)\n",
        "\n",
        "    def __getitem__(self, idx):\n",
        "        row = self.data.iloc[idx]\n",
        "        img_path = os.path.join(self.image_dir, row['image_path'])\n",
        "        image = Image.open(img_path).convert('RGB')\n",
        "        if self.transform:\n",
        "            image = self.transform(image)\n",
        "        score = torch.tensor(row['score'], dtype=torch.float32)\n",
        "        return image, score\n"
      ],
      "metadata": {
        "id": "gb2hFD4RQ1ip"
      },
      "execution_count": null,
      "outputs": []
    },
    {
      "cell_type": "code",
      "source": [
        "from torchvision import transforms\n",
        "from torch.utils.data import random_split, DataLoader\n",
        "\n",
        "csv_path = '/content/drive/MyDrive/Potato/leaf_scores.csv'\n",
        "image_dir = '/content/drive/MyDrive/Potato'\n",
        "\n",
        "transform = transforms.Compose([\n",
        "    transforms.Resize((224, 224)),\n",
        "    transforms.RandomHorizontalFlip(),\n",
        "    transforms.RandomVerticalFlip(),\n",
        "    transforms.RandomRotation(20),\n",
        "    transforms.ColorJitter(brightness=0.2, contrast=0.2),\n",
        "    transforms.ToTensor(),\n",
        "    transforms.Normalize(mean=[0.485, 0.456, 0.406],\n",
        "                         std=[0.229, 0.224, 0.225])\n",
        "])\n",
        "\n",
        "full_dataset = LeafHealthScoreDataset(csv_path, image_dir, transform=transform)\n",
        "\n",
        "# Split 80/20\n",
        "train_size = int(0.8 * len(full_dataset))\n",
        "val_size = len(full_dataset) - train_size\n",
        "train_dataset, val_dataset = random_split(full_dataset, [train_size, val_size])\n",
        "\n",
        "train_loader = DataLoader(train_dataset, batch_size=16, shuffle=True)\n",
        "val_loader = DataLoader(val_dataset, batch_size=16)\n"
      ],
      "metadata": {
        "id": "Td4z0GRPREU1"
      },
      "execution_count": null,
      "outputs": []
    },
    {
      "cell_type": "code",
      "source": [
        "from torchvision import models\n",
        "import torch.nn as nn\n",
        "\n",
        "class ResNetRegressor(nn.Module):\n",
        "    def __init__(self):\n",
        "        super().__init__()\n",
        "        self.base_model = models.resnet50(pretrained=True)\n",
        "        self.base_model.fc = nn.Linear(self.base_model.fc.in_features, 1)\n",
        "\n",
        "    def forward(self, x):\n",
        "        return self.base_model(x).squeeze(1)"
      ],
      "metadata": {
        "id": "fMgQKx_0ROav"
      },
      "execution_count": null,
      "outputs": []
    },
    {
      "cell_type": "code",
      "source": [
        "import torch.nn.functional as F\n",
        "from torch import optim\n",
        "\n",
        "device = torch.device(\"cuda\" if torch.cuda.is_available() else \"cpu\")\n",
        "model = ResNetRegressor().to(device)\n",
        "\n",
        "optimizer = optim.Adam(model.parameters(), lr=1e-4)\n",
        "criterion = nn.MSELoss()\n",
        "\n",
        "# Training loop\n",
        "for epoch in range(10):\n",
        "    model.train()\n",
        "    total_loss = 0\n",
        "    for images, scores in train_loader:\n",
        "        images, scores = images.to(device), scores.to(device)\n",
        "        optimizer.zero_grad()\n",
        "        outputs = model(images)\n",
        "        loss = criterion(outputs, scores)   # MSELoss\n",
        "        loss.backward()\n",
        "        optimizer.step()\n",
        "        total_loss += loss.item()\n",
        "\n",
        "    avg_loss = total_loss / len(train_loader)\n",
        "\n",
        "    # Validation\n",
        "    model.eval()\n",
        "    val_loss = 0\n",
        "    val_mae = 0\n",
        "    with torch.no_grad():\n",
        "        for images, scores in val_loader:\n",
        "            images, scores = images.to(device), scores.to(device)\n",
        "            outputs = model(images)\n",
        "            loss = criterion(outputs, scores)   # MSE\n",
        "            val_loss += loss.item()\n",
        "\n",
        "            mae = torch.mean(torch.abs(outputs - scores))   # MAE\n",
        "            val_mae += mae.item()\n",
        "\n",
        "    avg_val_loss = val_loss / len(val_loader)\n",
        "    avg_val_mae = val_mae / len(val_loader)\n",
        "\n",
        "    print(f\"Epoch {epoch+1}, Train Loss: {avg_loss:.4f}, Val Loss: {avg_val_loss:.4f}, Val MAE: {avg_val_mae:.4f}\")\n"
      ],
      "metadata": {
        "colab": {
          "base_uri": "https://localhost:8080/"
        },
        "id": "g46b9HLeRR_Q",
        "outputId": "9e8a5162-4fed-42e4-a1ee-23ce9fe89682"
      },
      "execution_count": null,
      "outputs": [
        {
          "output_type": "stream",
          "name": "stderr",
          "text": [
            "/usr/local/lib/python3.12/dist-packages/torchvision/models/_utils.py:208: UserWarning: The parameter 'pretrained' is deprecated since 0.13 and may be removed in the future, please use 'weights' instead.\n",
            "  warnings.warn(\n",
            "/usr/local/lib/python3.12/dist-packages/torchvision/models/_utils.py:223: UserWarning: Arguments other than a weight enum or `None` for 'weights' are deprecated since 0.13 and may be removed in the future. The current behavior is equivalent to passing `weights=ResNet50_Weights.IMAGENET1K_V1`. You can also use `weights=ResNet50_Weights.DEFAULT` to get the most up-to-date weights.\n",
            "  warnings.warn(msg)\n"
          ]
        },
        {
          "output_type": "stream",
          "name": "stdout",
          "text": [
            "Downloading: \"https://download.pytorch.org/models/resnet50-0676ba61.pth\" to /root/.cache/torch/hub/checkpoints/resnet50-0676ba61.pth\n"
          ]
        },
        {
          "output_type": "stream",
          "name": "stderr",
          "text": [
            "100%|██████████| 97.8M/97.8M [00:00<00:00, 186MB/s]\n"
          ]
        },
        {
          "output_type": "stream",
          "name": "stdout",
          "text": [
            "Epoch 1, Train Loss: 4.7283, Val Loss: 0.3382, Val MAE: 0.3838\n",
            "Epoch 2, Train Loss: 0.3937, Val Loss: 0.3617, Val MAE: 0.3614\n",
            "Epoch 3, Train Loss: 0.2787, Val Loss: 0.1238, Val MAE: 0.2517\n",
            "Epoch 4, Train Loss: 0.1708, Val Loss: 0.0578, Val MAE: 0.1826\n",
            "Epoch 5, Train Loss: 0.1305, Val Loss: 0.2084, Val MAE: 0.2980\n",
            "Epoch 6, Train Loss: 0.2070, Val Loss: 0.1375, Val MAE: 0.2280\n",
            "Epoch 7, Train Loss: 0.0966, Val Loss: 0.0659, Val MAE: 0.1728\n",
            "Epoch 8, Train Loss: 0.0497, Val Loss: 0.0609, Val MAE: 0.1700\n",
            "Epoch 9, Train Loss: 0.0303, Val Loss: 0.0670, Val MAE: 0.1145\n",
            "Epoch 10, Train Loss: 0.0342, Val Loss: 0.0704, Val MAE: 0.1373\n"
          ]
        }
      ]
    },
    {
      "cell_type": "code",
      "source": [
        "from torchvision import transforms\n",
        "from PIL import Image\n",
        "\n",
        "transform = transforms.Compose([\n",
        "    transforms.Resize((224, 224)),\n",
        "    transforms.ToTensor()\n",
        "])\n"
      ],
      "metadata": {
        "id": "e8PVhhZURu9p"
      },
      "execution_count": null,
      "outputs": []
    },
    {
      "cell_type": "code",
      "source": [
        "import torch\n",
        "import os\n",
        "\n",
        "def predict_leaf_health(model, image_path, transform, device):\n",
        "    model.eval()\n",
        "    image = Image.open(image_path).convert('RGB')\n",
        "    input_tensor = transform(image).unsqueeze(0).to(device)\n",
        "\n",
        "    with torch.no_grad():\n",
        "        output = model(input_tensor)\n",
        "        score = output.item()\n",
        "    return round(score, 2)\n"
      ],
      "metadata": {
        "id": "AXsVv2YzU9SD"
      },
      "execution_count": null,
      "outputs": []
    },
    {
      "cell_type": "code",
      "source": [],
      "metadata": {
        "id": "AP2s4bvsZ6WR"
      },
      "execution_count": null,
      "outputs": []
    },
    {
      "cell_type": "code",
      "source": [
        "class LeafHealthScoreDataset(Dataset):\n",
        "    def __init__(self, csv_path, image_dir, transform=None):\n",
        "        self.data = pd.read_csv(csv_path)\n",
        "        self.image_dir = image_dir\n",
        "        self.transform = transform\n",
        "\n",
        "    def __len__(self):\n",
        "        return len(self.data)\n",
        "\n",
        "    def __getitem__(self, idx):\n",
        "        img_path = os.path.join(self.image_dir, self.data.iloc[idx, 0])  # filename in col 0\n",
        "        label = torch.tensor(self.data.iloc[idx, 1], dtype=torch.float32)  # score in col 1\n",
        "        image = Image.open(img_path).convert(\"RGB\")\n",
        "\n",
        "        if self.transform:\n",
        "            image = self.transform(image)\n",
        "\n",
        "        return image, label, img_path   # ✅ return path as 3rd value\n"
      ],
      "metadata": {
        "id": "SPVFmfAiU_uR"
      },
      "execution_count": null,
      "outputs": []
    },
    {
      "cell_type": "code",
      "source": [
        "model.eval()\n",
        "predictions = []\n",
        "\n",
        "with torch.no_grad():\n",
        "    for batch_idx, (images, labels) in enumerate(val_loader):\n",
        "        images, labels = images.to(device), labels.to(device)\n",
        "        outputs = model(images).squeeze()   # (batch_size,)\n",
        "\n",
        "        for j in range(len(outputs)):\n",
        "            # Get the global index in the original dataset\n",
        "            global_idx = val_loader.dataset.indices[batch_idx * val_loader.batch_size + j]\n",
        "\n",
        "            # Filename from CSV (col 0 = filename)\n",
        "            fname = val_loader.dataset.dataset.data.iloc[global_idx, 0]\n",
        "\n",
        "            pred_score = outputs[j].item()\n",
        "            true_score = labels[j].item()\n",
        "            predictions.append((fname, pred_score, true_score))\n",
        "\n",
        "# Print a few results\n",
        "for fname, pred, true in predictions[:15]:\n",
        "    print(f\"{fname:30s} ➜ Predicted: {pred:.2f}, True: {true:.2f}\")\n"
      ],
      "metadata": {
        "id": "VqusvrOMhok3",
        "colab": {
          "base_uri": "https://localhost:8080/"
        },
        "outputId": "0016ba1c-9038-4e6b-b367-f51b09ac5fb5"
      },
      "execution_count": null,
      "outputs": [
        {
          "output_type": "stream",
          "name": "stdout",
          "text": [
            "Potato___Healthy/b536ea91-c5f8-413b-87f3-a22ac3d959d1___RS_HL 1825.JPG ➜ Predicted: 10.22, True: 10.00\n",
            "Potato___Healthy/c85bacb0-e5e8-4127-a0b0-a7342f2cab5f___RS_HL 5406.JPG ➜ Predicted: 10.08, True: 10.00\n",
            "Potato___Early_Blight/5fd6c76a-1e89-4991-9991-2b61670d5175___RS_Early.B 8208.JPG ➜ Predicted: 5.89, True: 6.00\n",
            "Potato___Late_Blight/0f824e18-3821-486c-81a1-f1f64cf6e767___RS_LB 4894.JPG ➜ Predicted: 4.08, True: 4.00\n",
            "Potato___Late_Blight/9cd7c33b-e29a-4300-ba19-183fb6c82aca___RS_LB 4124.JPG ➜ Predicted: 4.02, True: 4.00\n",
            "Potato___Healthy/ec6e43d3-512d-4908-99f2-c9e2a0be54be___RS_HL 4202.JPG ➜ Predicted: 10.21, True: 10.00\n",
            "Potato___Late_Blight/b9ad8d86-aadb-44b4-9bba-d6adb446afd7___RS_LB 5188.JPG ➜ Predicted: 4.35, True: 4.00\n",
            "Potato___Late_Blight/06554e38-28ce-429d-b8e9-520e61e3c58f___RS_LB 2692.JPG ➜ Predicted: 4.16, True: 4.00\n",
            "Potato___Early_Blight/544b5324-f697-4af8-90d4-47b7b86691c6___RS_Early.B 7028.JPG ➜ Predicted: 5.88, True: 6.00\n",
            "Potato___Early_Blight/0e0a1b51-f61c-4934-bc57-a820af1faacb___RS_Early.B 7147.JPG ➜ Predicted: 5.93, True: 6.00\n",
            "Potato___Early_Blight/f7db505f-aabe-4b96-b719-8c930b5ff471___RS_Early.B 9224.JPG ➜ Predicted: 5.90, True: 6.00\n",
            "Potato___Late_Blight/cb4fe901-5ca8-43e9-9a4f-3b9bf34ea364___RS_LB 3943.JPG ➜ Predicted: 4.04, True: 4.00\n",
            "Potato___Early_Blight/f0b444a4-ddd7-4286-8a80-423f7e71c526___RS_Early.B 8753.JPG ➜ Predicted: 5.80, True: 6.00\n",
            "Potato___Late_Blight/777a492f-3dfb-4bcf-8b33-a9b09fb21e6e___RS_LB 4866.JPG ➜ Predicted: 4.25, True: 4.00\n",
            "Potato___Late_Blight/6d22d4ab-de5f-4944-96f9-4ec495a8e4f1___RS_LB 3109.JPG ➜ Predicted: 4.04, True: 4.00\n"
          ]
        }
      ]
    },
    {
      "cell_type": "code",
      "source": [
        "import numpy as np\n",
        "import matplotlib.pyplot as plt\n",
        "from sklearn.metrics import confusion_matrix, ConfusionMatrixDisplay\n",
        "\n",
        "\n",
        "# Define binning function\n",
        "def bin_score(score):\n",
        "    if score >= 9:\n",
        "        return 0  # Healthy\n",
        "    elif 5 <= score < 7.5:\n",
        "        return 1  # Early Blight\n",
        "    elif 3 <= score < 5:\n",
        "        return 2  # Late Blight\n",
        "    else:\n",
        "        return 2  # default to Late Blight if lower\n",
        "\n",
        "# Map true and predicted scores into categories\n",
        "y_true = [bin_score(true) for _, _, true in predictions]\n",
        "y_pred = [bin_score(pred) for _, pred, _ in predictions]\n",
        "\n",
        "# Class names\n",
        "class_names = [\"Healthy\", \"Early Blight\", \"Late Blight\"]\n",
        "\n",
        "# Compute confusion matrix\n",
        "cm = confusion_matrix(y_true, y_pred, labels=[0,1,2])\n",
        "\n",
        "# Plot confusion matrix\n",
        "disp = ConfusionMatrixDisplay(confusion_matrix=cm, display_labels=class_names)\n",
        "fig, ax = plt.subplots(figsize=(5,5))\n",
        "disp.plot(cmap=\"Blues\", ax=ax, values_format=\"d\")\n",
        "plt.title(\"Confusion Matrix - Potato Cross-Crop Test\")\n",
        "plt.show()\n"
      ],
      "metadata": {
        "id": "6wDlH0oBuNhs",
        "outputId": "be1c0443-311d-4c13-9754-b3980f882736",
        "colab": {
          "base_uri": "https://localhost:8080/",
          "height": 430
        }
      },
      "execution_count": null,
      "outputs": [
        {
          "output_type": "display_data",
          "data": {
            "text/plain": [
              "<Figure size 500x500 with 2 Axes>"
            ],
            "image/png": "[encoded data removed]"
          },
          "metadata": {}
        }
      ]
    },
    {
      "cell_type": "code",
      "source": [],
      "metadata": {
        "id": "vB6-fRqeuOIh"
      },
      "execution_count": null,
      "outputs": []
    }
  ]
}