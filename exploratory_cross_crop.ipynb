{
  "nbformat": 4,
  "nbformat_minor": 0,
  "metadata": {
    "colab": {
      "provenance": [],
      "gpuType": "T4"
    },
    "kernelspec": {
      "name": "python3",
      "display_name": "Python 3"
    },
    "language_info": {
      "name": "python"
    },
    "accelerator": "GPU"
  },
  "cells": [
    {
      "cell_type": "code",
      "execution_count": 1,
      "metadata": {
        "id": "CyUSJSkrHnm-",
        "colab": {
          "base_uri": "https://localhost:8080/"
        },
        "outputId": "3c6ad2a3-ebbd-431d-c45f-2fbfd05e0f3c"
      },
      "outputs": [
        {
          "output_type": "stream",
          "name": "stdout",
          "text": [
            "Mounted at /content/drive\n"
          ]
        }
      ],
      "source": [
        "from google.colab import drive\n",
        "drive.mount('/content/drive')\n"
      ]
    },
    {
      "cell_type": "code",
      "source": [
        "import os\n",
        "import pandas as pd\n",
        "\n",
        "# Define the base image directory\n",
        "base_dir = '/content/drive/MyDrive/Potato/'\n",
        "\n",
        "# Folder to score mapping\n",
        "folder_score_map = {\n",
        "    'Potato___Early_Blight': 6,\n",
        "    'Potato___Healthy': 10,\n",
        "    'Potato___Late_Blight': 4\n",
        "}\n",
        "\n",
        "# Collect image paths and scores\n",
        "data = []\n",
        "for folder, score in folder_score_map.items():\n",
        "    folder_path = os.path.join(base_dir, folder)\n",
        "    for fname in os.listdir(folder_path):\n",
        "        if fname.lower().endswith(('.jpg', '.jpeg', '.png')):\n",
        "            relative_path = os.path.join(folder, fname)\n",
        "            data.append({'image_path': relative_path, 'score': score})\n",
        "\n",
        "\n",
        "df = pd.DataFrame(data)\n",
        "\n",
        "\n",
        "df = df.sort_values(by='image_path')\n",
        "\n",
        "# Save to CSV\n",
        "csv_path = '/content/drive/MyDrive/Potato/leaf_scores.csv'\n",
        "df.to_csv(csv_path, index=False)\n",
        "\n",
        "print(f\" CSV created with {len(df)} entries at: {csv_path}\")\n"
      ],
      "metadata": {
        "colab": {
          "base_uri": "https://localhost:8080/"
        },
        "id": "hsGLFCpQQKQQ",
        "outputId": "82ea07ec-4338-4a26-db24-f02b0ba070aa"
      },
      "execution_count": 2,
      "outputs": [
        {
          "output_type": "stream",
          "name": "stdout",
          "text": [
            " CSV created with 2152 entries at: /content/drive/MyDrive/Potato/leaf_scores.csv\n"
          ]
        }
      ]
    },
    {
      "cell_type": "code",
      "source": [
        "import pandas as pd\n",
        "import torch\n",
        "from torch.utils.data import Dataset\n",
        "from PIL import Image\n",
        "import os\n",
        "from torchvision import transforms\n",
        "\n",
        "class LeafHealthScoreDataset(Dataset):\n",
        "    def __init__(self, csv_file, image_dir, transform=None):\n",
        "        self.data = pd.read_csv(csv_file)\n",
        "        self.image_dir = image_dir\n",
        "        self.transform = transform\n",
        "\n",
        "    def __len__(self):\n",
        "        return len(self.data)\n",
        "\n",
        "    def __getitem__(self, idx):\n",
        "        row = self.data.iloc[idx]\n",
        "        img_path = os.path.join(self.image_dir, row['image_path'])\n",
        "        image = Image.open(img_path).convert('RGB')\n",
        "        if self.transform:\n",
        "            image = self.transform(image)\n",
        "        score = torch.tensor(row['score'], dtype=torch.float32)\n",
        "        return image, score\n"
      ],
      "metadata": {
        "id": "gb2hFD4RQ1ip"
      },
      "execution_count": 3,
      "outputs": []
    },
    {
      "cell_type": "code",
      "source": [
        "from torchvision import transforms\n",
        "from torch.utils.data import random_split, DataLoader\n",
        "\n",
        "csv_path = '/content/drive/MyDrive/Potato/leaf_scores.csv'\n",
        "image_dir = '/content/drive/MyDrive/Potato'\n",
        "\n",
        "transform = transforms.Compose([\n",
        "    transforms.Resize((224, 224)),\n",
        "    transforms.RandomHorizontalFlip(),\n",
        "    transforms.RandomVerticalFlip(),\n",
        "    transforms.RandomRotation(20),\n",
        "    transforms.ColorJitter(brightness=0.2, contrast=0.2),\n",
        "    transforms.ToTensor(),\n",
        "    transforms.Normalize(mean=[0.485, 0.456, 0.406],\n",
        "                         std=[0.229, 0.224, 0.225])\n",
        "])\n",
        "\n",
        "full_dataset = LeafHealthScoreDataset(csv_path, image_dir, transform=transform)\n",
        "\n",
        "# Split 80/20\n",
        "train_size = int(0.8 * len(full_dataset))\n",
        "val_size = len(full_dataset) - train_size\n",
        "train_dataset, val_dataset = random_split(full_dataset, [train_size, val_size])\n",
        "\n",
        "train_loader = DataLoader(train_dataset, batch_size=16, shuffle=True)\n",
        "val_loader = DataLoader(val_dataset, batch_size=16)\n"
      ],
      "metadata": {
        "id": "Td4z0GRPREU1"
      },
      "execution_count": 4,
      "outputs": []
    },
    {
      "cell_type": "code",
      "source": [
        "from torchvision import models\n",
        "import torch.nn as nn\n",
        "\n",
        "class ResNetRegressor(nn.Module):\n",
        "    def __init__(self):\n",
        "        super().__init__()\n",
        "        self.base_model = models.resnet50(pretrained=True)\n",
        "        self.base_model.fc = nn.Linear(self.base_model.fc.in_features, 1)\n",
        "\n",
        "    def forward(self, x):\n",
        "        return self.base_model(x).squeeze(1)"
      ],
      "metadata": {
        "id": "fMgQKx_0ROav"
      },
      "execution_count": 5,
      "outputs": []
    },
    {
      "cell_type": "code",
      "source": [
        "import torch.nn.functional as F\n",
        "from torch import optim\n",
        "\n",
        "device = torch.device(\"cuda\" if torch.cuda.is_available() else \"cpu\")\n",
        "model = ResNetRegressor().to(device)\n",
        "\n",
        "optimizer = optim.Adam(model.parameters(), lr=1e-4)\n",
        "criterion = nn.MSELoss()\n",
        "\n",
        "# Training loop\n",
        "for epoch in range(10):\n",
        "    model.train()\n",
        "    total_loss = 0\n",
        "    for images, scores in train_loader:\n",
        "        images, scores = images.to(device), scores.to(device)\n",
        "        optimizer.zero_grad()\n",
        "        outputs = model(images)\n",
        "        loss = criterion(outputs, scores)   # MSELoss\n",
        "        loss.backward()\n",
        "        optimizer.step()\n",
        "        total_loss += loss.item()\n",
        "\n",
        "    avg_loss = total_loss / len(train_loader)\n",
        "\n",
        "    # Validation\n",
        "    model.eval()\n",
        "    val_loss = 0\n",
        "    val_mae = 0\n",
        "    with torch.no_grad():\n",
        "        for images, scores in val_loader:\n",
        "            images, scores = images.to(device), scores.to(device)\n",
        "            outputs = model(images)\n",
        "            loss = criterion(outputs, scores)   # MSE\n",
        "            val_loss += loss.item()\n",
        "\n",
        "            mae = torch.mean(torch.abs(outputs - scores))   # MAE\n",
        "            val_mae += mae.item()\n",
        "\n",
        "    avg_val_loss = val_loss / len(val_loader)\n",
        "    avg_val_mae = val_mae / len(val_loader)\n",
        "\n",
        "    print(f\"Epoch {epoch+1}, Train Loss: {avg_loss:.4f}, Val Loss: {avg_val_loss:.4f}, Val MAE: {avg_val_mae:.4f}\")\n"
      ],
      "metadata": {
        "colab": {
          "base_uri": "https://localhost:8080/"
        },
        "id": "g46b9HLeRR_Q",
        "outputId": "e23298cd-454b-41b8-e86d-0028b7610b61"
      },
      "execution_count": 6,
      "outputs": [
        {
          "output_type": "stream",
          "name": "stderr",
          "text": [
            "/usr/local/lib/python3.12/dist-packages/torchvision/models/_utils.py:208: UserWarning: The parameter 'pretrained' is deprecated since 0.13 and may be removed in the future, please use 'weights' instead.\n",
            "  warnings.warn(\n",
            "/usr/local/lib/python3.12/dist-packages/torchvision/models/_utils.py:223: UserWarning: Arguments other than a weight enum or `None` for 'weights' are deprecated since 0.13 and may be removed in the future. The current behavior is equivalent to passing `weights=ResNet50_Weights.IMAGENET1K_V1`. You can also use `weights=ResNet50_Weights.DEFAULT` to get the most up-to-date weights.\n",
            "  warnings.warn(msg)\n"
          ]
        },
        {
          "output_type": "stream",
          "name": "stdout",
          "text": [
            "Downloading: \"https://download.pytorch.org/models/resnet50-0676ba61.pth\" to /root/.cache/torch/hub/checkpoints/resnet50-0676ba61.pth\n"
          ]
        },
        {
          "output_type": "stream",
          "name": "stderr",
          "text": [
            "100%|██████████| 97.8M/97.8M [00:00<00:00, 173MB/s]\n"
          ]
        },
        {
          "output_type": "stream",
          "name": "stdout",
          "text": [
            "Epoch 1, Train Loss: 4.0948, Val Loss: 0.8415, Val MAE: 0.6818\n",
            "Epoch 2, Train Loss: 0.3024, Val Loss: 0.1234, Val MAE: 0.2253\n",
            "Epoch 3, Train Loss: 0.2532, Val Loss: 0.0764, Val MAE: 0.1901\n",
            "Epoch 4, Train Loss: 0.1243, Val Loss: 0.0361, Val MAE: 0.1276\n",
            "Epoch 5, Train Loss: 0.1310, Val Loss: 0.0657, Val MAE: 0.1218\n",
            "Epoch 6, Train Loss: 0.0520, Val Loss: 0.0412, Val MAE: 0.1278\n",
            "Epoch 7, Train Loss: 0.0422, Val Loss: 0.0119, Val MAE: 0.0786\n",
            "Epoch 8, Train Loss: 0.0183, Val Loss: 0.0113, Val MAE: 0.0669\n",
            "Epoch 9, Train Loss: 0.0303, Val Loss: 0.0860, Val MAE: 0.1198\n",
            "Epoch 10, Train Loss: 0.2839, Val Loss: 0.4227, Val MAE: 0.5473\n"
          ]
        }
      ]
    },
    {
      "cell_type": "code",
      "source": [
        "from torchvision import transforms\n",
        "from PIL import Image\n",
        "\n",
        "transform = transforms.Compose([\n",
        "    transforms.Resize((224, 224)),\n",
        "    transforms.ToTensor()\n",
        "])\n"
      ],
      "metadata": {
        "id": "e8PVhhZURu9p"
      },
      "execution_count": 7,
      "outputs": []
    },
    {
      "cell_type": "code",
      "source": [
        "import torch\n",
        "import os\n",
        "\n",
        "def predict_leaf_health(model, image_path, transform, device):\n",
        "    model.eval()\n",
        "    image = Image.open(image_path).convert('RGB')\n",
        "    input_tensor = transform(image).unsqueeze(0).to(device)\n",
        "\n",
        "    with torch.no_grad():\n",
        "        output = model(input_tensor)\n",
        "        score = output.item()\n",
        "    return round(score, 2)\n"
      ],
      "metadata": {
        "id": "AXsVv2YzU9SD"
      },
      "execution_count": 8,
      "outputs": []
    },
    {
      "cell_type": "code",
      "source": [],
      "metadata": {
        "id": "AP2s4bvsZ6WR"
      },
      "execution_count": 8,
      "outputs": []
    },
    {
      "cell_type": "code",
      "source": [
        "class LeafHealthScoreDataset(Dataset):\n",
        "    def __init__(self, csv_path, image_dir, transform=None):\n",
        "        self.data = pd.read_csv(csv_path)\n",
        "        self.image_dir = image_dir\n",
        "        self.transform = transform\n",
        "\n",
        "    def __len__(self):\n",
        "        return len(self.data)\n",
        "\n",
        "    def __getitem__(self, idx):\n",
        "        img_path = os.path.join(self.image_dir, self.data.iloc[idx, 0])\n",
        "        label = torch.tensor(self.data.iloc[idx, 1], dtype=torch.float32)\n",
        "        image = Image.open(img_path).convert(\"RGB\")\n",
        "\n",
        "        if self.transform:\n",
        "            image = self.transform(image)\n",
        "\n",
        "        return image, label, img_path\n"
      ],
      "metadata": {
        "id": "SPVFmfAiU_uR"
      },
      "execution_count": 9,
      "outputs": []
    },
    {
      "cell_type": "code",
      "source": [
        "model.eval()\n",
        "predictions = []\n",
        "\n",
        "with torch.no_grad():\n",
        "    for batch_idx, (images, labels) in enumerate(val_loader):\n",
        "        images, labels = images.to(device), labels.to(device)\n",
        "        outputs = model(images).squeeze()\n",
        "\n",
        "        for j in range(len(outputs)):\n",
        "            # Get the global index in the original dataset\n",
        "            global_idx = val_loader.dataset.indices[batch_idx * val_loader.batch_size + j]\n",
        "\n",
        "\n",
        "            fname = val_loader.dataset.dataset.data.iloc[global_idx, 0]\n",
        "\n",
        "            pred_score = outputs[j].item()\n",
        "            true_score = labels[j].item()\n",
        "            predictions.append((fname, pred_score, true_score))\n",
        "\n",
        "# Print a few results\n",
        "for fname, pred, true in predictions[:15]:\n",
        "    print(f\"{fname:30s} ➜ Predicted: {pred:.2f}, True: {true:.2f}\")\n"
      ],
      "metadata": {
        "id": "VqusvrOMhok3",
        "colab": {
          "base_uri": "https://localhost:8080/"
        },
        "outputId": "49743f04-7bcf-4f8a-e8c3-3571946d9abb"
      },
      "execution_count": 10,
      "outputs": [
        {
          "output_type": "stream",
          "name": "stdout",
          "text": [
            "Potato___Early_Blight/d06681cc-3ed1-4af2-ae40-2597eaea3dd4___RS_Early.B 8691.JPG ➜ Predicted: 5.88, True: 6.00\n",
            "Potato___Late_Blight/77e2a857-e169-42f4-9886-708024781837___RS_LB 4705.JPG ➜ Predicted: 4.74, True: 4.00\n",
            "Potato___Early_Blight/e4bd2479-dd2f-41ce-9544-4f1804c4ab8b___RS_Early.B 8601.JPG ➜ Predicted: 5.83, True: 6.00\n",
            "Potato___Late_Blight/b340ff00-3d44-4394-90c5-797dc39f8389___RS_LB 4953.JPG ➜ Predicted: 4.63, True: 4.00\n",
            "Potato___Early_Blight/32c3bd85-3b12-4051-9185-12d39caaf94f___RS_Early.B 6684.JPG ➜ Predicted: 5.94, True: 6.00\n",
            "Potato___Early_Blight/52fb5725-33cf-4076-9abc-93311d027da2___RS_Early.B 8415.JPG ➜ Predicted: 5.79, True: 6.00\n",
            "Potato___Early_Blight/4019e40b-0175-462a-b6bb-228cf42c1a65___RS_Early.B 8256.JPG ➜ Predicted: 5.86, True: 6.00\n",
            "Potato___Early_Blight/51e028c1-7aec-46e9-a389-391bc38b46f3___RS_Early.B 8505.JPG ➜ Predicted: 5.87, True: 6.00\n",
            "Potato___Early_Blight/d4f3066f-adb8-401b-a27f-19a12c336ebe___RS_Early.B 8626.JPG ➜ Predicted: 5.59, True: 6.00\n",
            "Potato___Early_Blight/606e216d-f0b8-4ef3-9bf1-2bee85a13361___RS_Early.B 7094.JPG ➜ Predicted: 5.68, True: 6.00\n",
            "Potato___Late_Blight/b367b969-aec9-4555-9ea2-0a982b38be62___RS_LB 4682.JPG ➜ Predicted: 4.37, True: 4.00\n",
            "Potato___Late_Blight/6cab0a2b-a2d9-4798-8043-f6ef416ed745___RS_LB 4993.JPG ➜ Predicted: 4.54, True: 4.00\n",
            "Potato___Late_Blight/050b6d37-4056-4c6c-8359-d7823a488531___RS_LB 3944.JPG ➜ Predicted: 4.41, True: 4.00\n",
            "Potato___Late_Blight/ebd47dca-590b-43c4-812d-32f95b776690___RS_LB 3834.JPG ➜ Predicted: 4.47, True: 4.00\n",
            "Potato___Early_Blight/c82e587c-a0f2-451e-9057-e3719a3d9562___RS_Early.B 6824.JPG ➜ Predicted: 5.63, True: 6.00\n"
          ]
        }
      ]
    },
    {
      "cell_type": "code",
      "source": [
        "import numpy as np\n",
        "import matplotlib.pyplot as plt\n",
        "from sklearn.metrics import confusion_matrix, ConfusionMatrixDisplay\n",
        "\n",
        "\n",
        "# Define binning function\n",
        "def bin_score(score):\n",
        "    if score >= 9:\n",
        "        return 0  # Healthy\n",
        "    elif 5 <= score < 7.5:\n",
        "        return 1  # Early Blight\n",
        "    elif 3 <= score < 5:\n",
        "        return 2  # Late Blight\n",
        "    else:\n",
        "        return 2  # default to Late Blight if lower\n",
        "\n",
        "# Map true and predicted scores into categories\n",
        "y_true = [bin_score(true) for _, _, true in predictions]\n",
        "y_pred = [bin_score(pred) for _, pred, _ in predictions]\n",
        "\n",
        "# Class names\n",
        "class_names = [\"Healthy\", \"Early Blight\", \"Late Blight\"]\n",
        "\n",
        "# Compute confusion matrix\n",
        "cm = confusion_matrix(y_true, y_pred, labels=[0,1,2])\n",
        "\n",
        "# Plot confusion matrix\n",
        "disp = ConfusionMatrixDisplay(confusion_matrix=cm, display_labels=class_names)\n",
        "fig, ax = plt.subplots(figsize=(5,5))\n",
        "disp.plot(cmap=\"Blues\", ax=ax, values_format=\"d\")\n",
        "plt.title(\"Confusion Matrix - Potato Cross-Crop Test\")\n",
        "plt.show()\n"
      ],
      "metadata": {
        "id": "6wDlH0oBuNhs",
        "outputId": "fd4c1790-ac35-4c2f-96e3-9f6e0c572f09",
        "colab": {
          "base_uri": "https://localhost:8080/",
          "height": 430
        }
      },
      "execution_count": 11,
      "outputs": [
        {
          "output_type": "display_data",
          "data": {
            "text/plain": [
              "<Figure size 500x500 with 2 Axes>"
            ],
            "image/png": "[encoded data removed]"
          },
          "metadata": {}
        }
      ]
    },
    {
      "cell_type": "code",
      "source": [],
      "metadata": {
        "id": "vB6-fRqeuOIh"
      },
      "execution_count": 11,
      "outputs": []
    }
  ]
}