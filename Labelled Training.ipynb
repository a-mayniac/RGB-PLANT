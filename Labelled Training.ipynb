{
  "cells": [
    {
      "cell_type": "code",
      "execution_count": 1,
      "metadata": {
        "id": "xwLH3XxplQsN"
      },
      "outputs": [],
      "source": [
        "import os\n",
        "import pandas as pd\n",
        "from PIL import Image\n",
        "import torch\n",
        "from torch import nn\n",
        "from torch.utils.data import Dataset, DataLoader\n",
        "from torchvision import transforms, models\n",
        "from sklearn.model_selection import train_test_split\n",
        "import matplotlib.pyplot as plt\n",
        "import numpy as np\n"
      ]
    },
    {
      "cell_type": "code",
      "execution_count": 44,
      "metadata": {
        "colab": {
          "base_uri": "https://localhost:8080/"
        },
        "id": "VDOVy4wrlm7h",
        "outputId": "faeb029f-3502-4fa4-931c-f263db1c5884"
      },
      "outputs": [
        {
          "output_type": "stream",
          "name": "stdout",
          "text": [
            "Drive already mounted at /content/drive; to attempt to forcibly remount, call drive.mount(\"/content/drive\", force_remount=True).\n"
          ]
        }
      ],
      "source": [
        "from google.colab import drive\n",
        "drive.mount('/content/drive')\n",
        "\n"
      ]
    },
    {
      "cell_type": "code",
      "execution_count": 45,
      "metadata": {
        "id": "JDS1AAMF2oDx"
      },
      "outputs": [],
      "source": [
        "class LeafScoreDataset(Dataset):\n",
        "    def __init__(self, df, image_dir, transform=None):\n",
        "        self.df = df.reset_index(drop=True)\n",
        "        self.image_dir = image_dir\n",
        "        self.transform = transform\n",
        "\n",
        "    def __len__(self):\n",
        "\n",
        "        return len(self.df)\n",
        "\n",
        "    def __getitem__(self, idx):\n",
        "        row = self.df.iloc[idx]\n",
        "        img_path = os.path.join(str(self.image_dir), str(row['image_path']))\n",
        "        image = Image.open(img_path).convert('RGB')\n",
        "        if self.transform:\n",
        "            image = self.transform(image)\n",
        "        label = torch.tensor(row['score'], dtype=torch.float32)\n",
        "        return image, label"
      ]
    },
    {
      "cell_type": "code",
      "execution_count": 55,
      "metadata": {
        "id": "dMO9gvES2wiC",
        "colab": {
          "base_uri": "https://localhost:8080/"
        },
        "outputId": "c90bf734-4cc4-4517-b153-57b3b707b3fb"
      },
      "outputs": [
        {
          "output_type": "stream",
          "name": "stdout",
          "text": [
            "Found classes: ['Healthy', 'septoria', 'stripe_rust']\n",
            "Total images loaded: 407\n",
            "Loaded 102 images for class 'Healthy'\n",
            "Loaded 97 images for class 'septoria'\n",
            "Loaded 208 images for class 'stripe_rust'\n"
          ]
        }
      ],
      "source": [
        "# ✅ Step 3: Load Data & Prepare Transforms\n",
        "import os\n",
        "import torch\n",
        "from torchvision import datasets, transforms\n",
        "from torch.utils.data import DataLoader, random_split\n",
        "\n",
        "# Define the root directory of the dataset (contains subfolders for each class)\n",
        "dataset_dir = \"/content/drive/MyDrive/arch/wheat_leaf (1)\"  # Use the correct path without the extra \"(1)\" suffix\n",
        "\n",
        "# Define image transformations (resize images, convert to tensor, etc.)\n",
        "transform = transforms.Compose([\n",
        "    transforms.Resize((224, 224)),   # resize all images to 224x224 (for example)\n",
        "    transforms.ToTensor(),           # convert PIL image to PyTorch tensor\n",
        "    # ... you can add normalization or other transforms as needed\n",
        "])\n",
        "\n",
        "# Load the dataset using ImageFolder, which will recursively traverse subdirectories\n",
        "dataset = datasets.ImageFolder(root=dataset_dir, transform=transform)\n",
        "\n",
        "# Verify that images are loaded and classes are detected\n",
        "print(\"Found classes:\", dataset.classes)\n",
        "print(\"Total images loaded:\", len(dataset))\n",
        "\n",
        "# Example: count images per class to ensure all subfolders are read\n",
        "from collections import Counter\n",
        "counts = Counter(label for _, label in dataset.samples)\n",
        "for class_index, count in counts.items():\n",
        "    class_name = dataset.classes[class_index]\n",
        "    print(f\"Loaded {count} images for class '{class_name}'\")\n"
      ]
    },
    {
      "cell_type": "code",
      "source": [
        "# Split into training and validation subsets (e.g., 80-20 split)\n",
        "train_size = int(0.8 * len(dataset))\n",
        "val_size   = len(dataset) - train_size\n",
        "train_dataset, val_dataset = random_split(dataset, [train_size, val_size], generator=torch.Generator().manual_seed(42))\n",
        "\n",
        "# Create DataLoaders for batching\n",
        "train_loader = DataLoader(train_dataset, batch_size=16, shuffle=True)\n",
        "val_loader   = DataLoader(val_dataset, batch_size=16, shuffle=False)\n",
        "\n",
        "# (Optional) Check a few sample labels to ensure correctness\n",
        "for i in range(3):\n",
        "    img, label = train_dataset[i]\n",
        "    print(f\"Sample {i}: class index = {label}, class name = '{dataset.classes[label]}'\")\n",
        "print(dataset.class_to_idx)\n",
        "\n",
        "from collections import Counter\n",
        "all_labels = [label for _, label in train_dataset]\n",
        "print(Counter(all_labels))\n"
      ],
      "metadata": {
        "colab": {
          "base_uri": "https://localhost:8080/"
        },
        "id": "4yoK5_UjYe0R",
        "outputId": "df0a1d0a-b828-45a8-b0a3-d7d9407c1d70"
      },
      "execution_count": 58,
      "outputs": [
        {
          "output_type": "stream",
          "name": "stdout",
          "text": [
            "Sample 0: class index = 1, class name = 'septoria'\n",
            "Sample 1: class index = 2, class name = 'stripe_rust'\n",
            "Sample 2: class index = 2, class name = 'stripe_rust'\n",
            "{'Healthy': 0, 'septoria': 1, 'stripe_rust': 2}\n",
            "Counter({2: 169, 1: 82, 0: 74})\n"
          ]
        }
      ]
    },
    {
      "cell_type": "code",
      "source": [
        "from torch.utils.data import WeightedRandomSampler\n",
        "\n",
        "# Step 1: Count class occurrences\n",
        "from collections import Counter\n",
        "labels = [label for _, label in train_dataset]\n",
        "label_counts = Counter(labels)\n",
        "\n",
        "# Step 2: Compute weights (inverse frequency)\n",
        "class_weights = {cls: 1.0 / count for cls, count in label_counts.items()}\n",
        "sample_weights = [class_weights[label] for label in labels]\n",
        "\n",
        "# Step 3: Create WeightedRandomSampler\n",
        "sampler = WeightedRandomSampler(sample_weights, num_samples=len(train_dataset), replacement=True)\n",
        "\n",
        "# Step 4: Use sampler in train_loader\n",
        "train_loader = DataLoader(train_dataset, batch_size=16, sampler=sampler)\n"
      ],
      "metadata": {
        "id": "084Bu3kQcSJt"
      },
      "execution_count": 60,
      "outputs": []
    },
    {
      "cell_type": "code",
      "source": [
        "import torch\n",
        "from torch.utils.data import DataLoader, random_split\n",
        "from torchvision import models, transforms\n",
        "import torch.nn as nn\n",
        "import torch.optim as optim\n",
        "\n",
        "# Set device\n",
        "device = torch.device(\"cuda\" if torch.cuda.is_available() else \"cpu\")\n",
        "\n",
        "# Split dataset\n",
        "train_size = int(0.8 * len(dataset))\n",
        "val_size = len(dataset) - train_size\n",
        "train_dataset, val_dataset = random_split(dataset, [train_size, val_size])\n",
        "\n",
        "train_loader = DataLoader(train_dataset, batch_size=16, shuffle=True)\n",
        "val_loader = DataLoader(val_dataset, batch_size=16, shuffle=False)\n",
        "\n",
        "# Load ResNet50 model\n",
        "model = models.resnet50(pretrained=True)\n",
        "model.fc = nn.Linear(model.fc.in_features, len(dataset.classes))  # Adapt for your num of classes\n",
        "model.to(device)\n",
        "\n",
        "criterion = nn.CrossEntropyLoss()\n",
        "optimizer = optim.Adam(model.parameters(), lr=1e-4)\n",
        "\n",
        "# Training loop\n",
        "for epoch in range(5):\n",
        "    model.train()\n",
        "    train_loss, train_correct, train_total = 0.0, 0, 0\n",
        "\n",
        "    for images, labels in train_loader:\n",
        "        images, labels = images.to(device), labels.to(device)\n",
        "\n",
        "        optimizer.zero_grad()\n",
        "        outputs = model(images)\n",
        "        loss = criterion(outputs, labels)\n",
        "        loss.backward()\n",
        "        optimizer.step()\n",
        "\n",
        "        train_loss += loss.item() * labels.size(0)\n",
        "        _, preds = torch.max(outputs, 1)\n",
        "        train_correct += (preds == labels).sum().item()\n",
        "        train_total += labels.size(0)\n",
        "\n",
        "    train_acc = train_correct / train_total\n",
        "\n",
        "    # Validation\n",
        "    model.eval()\n",
        "    val_correct, val_total = 0, 0\n",
        "    with torch.no_grad():\n",
        "        for images, labels in val_loader:\n",
        "            images, labels = images.to(device), labels.to(device)\n",
        "            outputs = model(images)\n",
        "            _, preds = torch.max(outputs, 1)\n",
        "            val_correct += (preds == labels).sum().item()\n",
        "            val_total += labels.size(0)\n",
        "\n",
        "    val_acc = val_correct / val_total\n",
        "\n",
        "    print(f\"Epoch {epoch+1}/10, Train Loss: {train_loss/train_total:.4f}, \"\n",
        "          f\"Train Acc: {train_acc:.4f}, Val Acc: {val_acc:.4f}\")\n"
      ],
      "metadata": {
        "colab": {
          "base_uri": "https://localhost:8080/"
        },
        "id": "b4t6Z4xAe0wp",
        "outputId": "5d9f6d0c-84c4-42f9-8d4f-a7c0b30c3195"
      },
      "execution_count": 68,
      "outputs": [
        {
          "output_type": "stream",
          "name": "stdout",
          "text": [
            "Epoch 1/10, Train Loss: 0.4861, Train Acc: 0.8277, Val Acc: 0.9634\n",
            "Epoch 2/10, Train Loss: 0.0628, Train Acc: 0.9877, Val Acc: 0.9756\n",
            "Epoch 3/10, Train Loss: 0.0509, Train Acc: 0.9846, Val Acc: 0.9878\n",
            "Epoch 4/10, Train Loss: 0.0218, Train Acc: 0.9938, Val Acc: 1.0000\n",
            "Epoch 5/10, Train Loss: 0.0198, Train Acc: 0.9969, Val Acc: 1.0000\n"
          ]
        }
      ]
    },
    {
      "cell_type": "code",
      "source": [],
      "metadata": {
        "id": "P1Fu5Ooy0Rkj"
      },
      "execution_count": null,
      "outputs": []
    }
  ],
  "metadata": {
    "accelerator": "GPU",
    "colab": {
      "gpuType": "T4",
      "provenance": []
    },
    "kernelspec": {
      "display_name": "Python 3",
      "name": "python3"
    },
    "language_info": {
      "name": "python"
    }
  },
  "nbformat": 4,
  "nbformat_minor": 0
}